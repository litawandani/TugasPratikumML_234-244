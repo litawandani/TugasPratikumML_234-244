{
  "nbformat": 4,
  "nbformat_minor": 0,
  "metadata": {
    "colab": {
      "name": "Model 1(Base CNN).ipynb",
      "provenance": [],
      "collapsed_sections": [],
      "include_colab_link": true
    },
    "kernelspec": {
      "name": "python3",
      "display_name": "Python 3"
    },
    "language_info": {
      "name": "python"
    },
    "accelerator": "GPU"
  },
  "cells": [
    {
      "cell_type": "markdown",
      "metadata": {
        "id": "view-in-github",
        "colab_type": "text"
      },
      "source": [
        "<a href=\"https://colab.research.google.com/github/litawandani/TugasPratikumML_234-244/blob/main/Model_1_fix(Base_CNN).ipynb\" target=\"_parent\"><img src=\"https://colab.research.google.com/assets/colab-badge.svg\" alt=\"Open In Colab\"/></a>"
      ]
    },
    {
      "cell_type": "code",
      "execution_count": null,
      "metadata": {
        "colab": {
          "base_uri": "https://localhost:8080/"
        },
        "id": "8Ej9lZiqEpKL",
        "outputId": "518649bd-3085-44bb-a81b-a592e3549dc8"
      },
      "outputs": [
        {
          "output_type": "stream",
          "name": "stdout",
          "text": [
            "Mounted at /content/drive\n"
          ]
        }
      ],
      "source": [
        "from google.colab import drive\n",
        "drive.mount('/content/drive')"
      ]
    },
    {
      "cell_type": "code",
      "source": [
        "import os\n",
        "os.environ['KAGGLE_CONFIG_DIR'] = \"/content/drive/MyDrive/Machine Learning\""
      ],
      "metadata": {
        "id": "Ami9tXZMEuDP"
      },
      "execution_count": null,
      "outputs": []
    },
    {
      "cell_type": "code",
      "source": [
        "%cd /content/drive/MyDrive/Machine Learning"
      ],
      "metadata": {
        "id": "mmNVF8h-Evxk",
        "colab": {
          "base_uri": "https://localhost:8080/"
        },
        "outputId": "67f308d2-3a39-4388-dc79-5be817cc6b76"
      },
      "execution_count": null,
      "outputs": [
        {
          "output_type": "stream",
          "name": "stdout",
          "text": [
            "/content/drive/MyDrive/Machine Learning\n"
          ]
        }
      ]
    },
    {
      "cell_type": "code",
      "source": [
        "!ls"
      ],
      "metadata": {
        "id": "9L3cA6apExNE",
        "colab": {
          "base_uri": "https://localhost:8080/"
        },
        "outputId": "a62d5ebc-b242-4d64-d9f7-51d5032c292c"
      },
      "execution_count": null,
      "outputs": [
        {
          "output_type": "stream",
          "name": "stdout",
          "text": [
            "'Alzheimer_s Dataset'   hparam.h5     model_2.h5\t  WAML\n",
            " dataset\t        kaggle.json  'noise-27 (9).jpg'\n",
            " dataset_model\t        logs\t      split_dataset\n"
          ]
        }
      ]
    },
    {
      "cell_type": "code",
      "source": [
        "!kaggle datasets download -d tourist55/alzheimers-dataset-4-class-of-images"
      ],
      "metadata": {
        "id": "gWvPk3s1E1dh",
        "colab": {
          "base_uri": "https://localhost:8080/"
        },
        "outputId": "86dd9b62-d112-4fea-e967-f575f46953d6"
      },
      "execution_count": null,
      "outputs": [
        {
          "output_type": "stream",
          "name": "stdout",
          "text": [
            "Downloading alzheimers-dataset-4-class-of-images.zip to /content/drive/My Drive/ML\n",
            "100% 34.0M/34.1M [00:01<00:00, 14.2MB/s]\n",
            "100% 34.1M/34.1M [00:01<00:00, 20.8MB/s]\n"
          ]
        }
      ]
    },
    {
      "cell_type": "code",
      "source": [
        "!unzip \\*.zip &> /dev/null && rm *.zip"
      ],
      "metadata": {
        "id": "trf_7vJgE4Kv"
      },
      "execution_count": null,
      "outputs": []
    },
    {
      "cell_type": "code",
      "source": [
        "from distutils.dir_util import copy_tree, remove_tree\n",
        "\n",
        "base_dir = \"/content/drive/My Drive/Machine Learning/Alzheimer_s Dataset\"\n",
        "root_dir = \"./\"\n",
        "train_dir = os.path.join(base_dir, 'train')\n",
        "test_dir = os.path.join(base_dir, 'test')\n",
        "work_dir = root_dir + \"dataset/\"\n",
        "\n",
        "if os.path.exists(work_dir):\n",
        "  remove_tree (work_dir)\n",
        "\n",
        "os.mkdir(work_dir)\n",
        "copy_tree(train_dir, work_dir)\n",
        "copy_tree(test_dir, work_dir)\n",
        "print(\"Working Directory Contents:\", os.listdir(work_dir))"
      ],
      "metadata": {
        "id": "KRT7l3HSE8DH",
        "colab": {
          "base_uri": "https://localhost:8080/"
        },
        "outputId": "249ab698-3948-4ddc-d74d-dc0a689cdfe7"
      },
      "execution_count": null,
      "outputs": [
        {
          "output_type": "stream",
          "name": "stdout",
          "text": [
            "Working Directory Contents: ['MildDemented', 'ModerateDemented', 'NonDemented', 'VeryMildDemented']\n"
          ]
        }
      ]
    },
    {
      "cell_type": "code",
      "source": [
        "!pip install split_folders\n",
        "import splitfolders\n",
        "\n",
        "src = \"/content/drive/My Drive/Machine Learning/dataset\"\n",
        "base_dir = \"/content/drive/My Drive/Machine Learning/split_dataset\"\n",
        "\n",
        "splitfolders.ratio(src, output = base_dir, seed=240, ratio=(0.8,0.2))"
      ],
      "metadata": {
        "id": "1796vmsZE_HD",
        "colab": {
          "base_uri": "https://localhost:8080/"
        },
        "outputId": "e9e3caa2-e8b5-46af-80c1-0796cce07fc1"
      },
      "execution_count": null,
      "outputs": [
        {
          "output_type": "stream",
          "name": "stdout",
          "text": [
            "Collecting split_folders\n",
            "  Downloading split_folders-0.4.3-py3-none-any.whl (7.4 kB)\n",
            "Installing collected packages: split-folders\n",
            "Successfully installed split-folders-0.4.3\n"
          ]
        },
        {
          "output_type": "stream",
          "name": "stderr",
          "text": [
            "Copying files: 6400 files [01:22, 77.66 files/s]\n"
          ]
        }
      ]
    },
    {
      "cell_type": "code",
      "source": [
        "base_dir = \"/content/drive/My Drive/Machine Learning/split_dataset\"\n",
        "\n",
        "train_dir = os.path.join(base_dir, 'train')\n",
        "validation_dir = os.path.join(base_dir, 'val')\n",
        "\n",
        "MildDem_train_dir = os.path.join(train_dir, 'MildDemented')\n",
        "ModDem_train_dir = os.path.join(train_dir, 'ModerateDemented')\n",
        "NonDem_train_dir = os.path.join(train_dir, 'NonDemented')\n",
        "VermilDem_train_dir = os.path.join(train_dir, 'VeryMildDemented')\n",
        "\n",
        "MildDem_val_dir = os.path.join(validation_dir, 'MildDemented')\n",
        "ModDem_val_dir = os.path.join(validation_dir, 'ModerateDemented')\n",
        "NonDem_val_dir = os.path.join(validation_dir, 'NonDemented')\n",
        "VermilDem_val_dir = os.path.join(validation_dir, 'VeryMildDemented')"
      ],
      "metadata": {
        "id": "Yq6KvvgoFDcz"
      },
      "execution_count": null,
      "outputs": []
    },
    {
      "cell_type": "code",
      "source": [
        "print('total training MildDemented images :', len(os.listdir(MildDem_train_dir)))\n",
        "print('total training ModerateDemented images :', len(os.listdir(ModDem_train_dir)))\n",
        "print('total training NonDemented images :', len(os.listdir(NonDem_train_dir)))\n",
        "print('total training VeryMildDemented images :', len(os.listdir(VermilDem_train_dir)))\n",
        "\n",
        "print('\\ntotal validation MildDemented images :', len(os.listdir(MildDem_val_dir)))\n",
        "print('total validation ModerateDemented images :', len(os.listdir(ModDem_val_dir)))\n",
        "print('total validation NonDemented images :', len(os.listdir(NonDem_val_dir)))\n",
        "print('total validation VeryMildDemented images :', len(os.listdir(VermilDem_val_dir)))"
      ],
      "metadata": {
        "id": "q6KoGMqCFENz",
        "colab": {
          "base_uri": "https://localhost:8080/"
        },
        "outputId": "25487c0c-1667-4978-bcb1-351e7729106d"
      },
      "execution_count": null,
      "outputs": [
        {
          "output_type": "stream",
          "name": "stdout",
          "text": [
            "total training MildDemented images : 716\n",
            "total training ModerateDemented images : 51\n",
            "total training NonDemented images : 2560\n",
            "total training VeryMildDemented images : 1792\n",
            "\n",
            "total validation MildDemented images : 180\n",
            "total validation ModerateDemented images : 13\n",
            "total validation NonDemented images : 640\n",
            "total validation VeryMildDemented images : 448\n"
          ]
        }
      ]
    },
    {
      "cell_type": "code",
      "source": [
        "# TULIS KODE ANDA DISINI\n",
        "import tensorflow as tf\n",
        "import keras_preprocessing\n",
        "from keras_preprocessing import image\n",
        "from keras_preprocessing.image import ImageDataGenerator\n",
        "\n",
        "height = 200\n",
        "width = 200\n",
        "batch_size = 32\n",
        "\n",
        "generator_datagen = ImageDataGenerator(\n",
        "    rescale = 1./255,\n",
        "    #rotation_range=40,\n",
        "    #width_shift_range=0.2,\n",
        "    #height_shift_range=0.2,\n",
        "    shear_range=0.2,\n",
        "    zoom_range=0.2,\n",
        "    horizontal_flip=True)\n",
        "\n",
        "val_gen = ImageDataGenerator(rescale = 1./255)\n",
        "\n",
        "train_generator = generator_datagen.flow_from_directory(\n",
        "    train_dir,\n",
        "    target_size=(height, width),\n",
        "    class_mode='categorical',\n",
        "    color_mode=\"rgb\",\n",
        "    shuffle=True,\n",
        "    batch_size=batch_size\n",
        ")\n",
        "\n",
        "val_generator = val_gen.flow_from_directory(\n",
        "    validation_dir,\n",
        "    target_size=(height,width),\n",
        "    class_mode='categorical',\n",
        "    color_mode=\"rgb\",\n",
        "    shuffle=False,\n",
        "    batch_size=batch_size\n",
        ")"
      ],
      "metadata": {
        "id": "WmrpV1akFQ-b",
        "colab": {
          "base_uri": "https://localhost:8080/"
        },
        "outputId": "346d0bda-22dd-4cfa-b686-b497c2648f7b"
      },
      "execution_count": null,
      "outputs": [
        {
          "output_type": "stream",
          "name": "stdout",
          "text": [
            "Found 5119 images belonging to 4 classes.\n",
            "Found 1281 images belonging to 4 classes.\n"
          ]
        }
      ]
    },
    {
      "cell_type": "code",
      "source": [
        "import cv2\n",
        "import numpy as np\n",
        "\n",
        "# Gather data train\n",
        "train_data = []\n",
        "train_label = []\n",
        "for r, d, f in os.walk(train_dir):\n",
        "    for file in f:\n",
        "        if \".jpg\" in file:\n",
        "            imagePath = os.path.join(r, file)\n",
        "            image = cv2.imread(imagePath)\n",
        "            image = cv2.resize(image, (200,200))\n",
        "            train_data.append(image)\n",
        "            label = imagePath.split(os.path.sep)[-2]\n",
        "            train_label.append(label)\n",
        "\n",
        "train_data = np.array(train_data)\n",
        "train_label = np.array(train_label)"
      ],
      "metadata": {
        "id": "nM7AX2rNGJuD"
      },
      "execution_count": null,
      "outputs": []
    },
    {
      "cell_type": "code",
      "source": [
        "# Gather data validation\n",
        "val_data = []\n",
        "val_label = []\n",
        "for r, d, f in os.walk(validation_dir):\n",
        "    for file in f:\n",
        "        if \".jpg\" in file:\n",
        "            imagePath = os.path.join(r, file)\n",
        "            image = cv2.imread(imagePath)\n",
        "            image = cv2.resize(image, (200,200))\n",
        "            val_data.append(image)\n",
        "            label = imagePath.split(os.path.sep)[-2]\n",
        "            val_label.append(label)\n",
        "\n",
        "val_data = np.array(val_data)\n",
        "val_label = np.array(val_label)"
      ],
      "metadata": {
        "id": "ChMjUFW9GLrv"
      },
      "execution_count": null,
      "outputs": []
    },
    {
      "cell_type": "code",
      "source": [
        "# Tampilkan shape dari data train, data val dan data test\n",
        "print(\"Train Data = \", train_data.shape)\n",
        "print(\"Train Label = \", train_label.shape)\n",
        "print(\"Val Data = \", val_data.shape)\n",
        "print(\"Val Label = \", val_label.shape)"
      ],
      "metadata": {
        "id": "8HAYuaR7GRFP",
        "colab": {
          "base_uri": "https://localhost:8080/"
        },
        "outputId": "dd93d3a2-4e6c-437c-fe0b-c1db0ffc7ba9"
      },
      "execution_count": null,
      "outputs": [
        {
          "output_type": "stream",
          "name": "stdout",
          "text": [
            "Train Data =  (5119, 200, 200, 3)\n",
            "Train Label =  (5119,)\n",
            "Val Data =  (1281, 200, 200, 3)\n",
            "Val Label =  (1281,)\n"
          ]
        }
      ]
    },
    {
      "cell_type": "code",
      "source": [
        "# Normalisasi dataset\n",
        "print(\"Data sebelum di-normalisasi \", train_data[0][0][0])\n",
        "\n",
        "x_train = train_data.astype('float32') / 255.0\n",
        "x_val = val_data.astype('float32') / 255.0\n",
        "print(\"Data setelah di-normalisasi \", x_train[0][0][0])"
      ],
      "metadata": {
        "id": "aFBa02SOGQ__",
        "colab": {
          "base_uri": "https://localhost:8080/"
        },
        "outputId": "d9dfe801-7a9b-4377-aea5-5e6126946b0f"
      },
      "execution_count": null,
      "outputs": [
        {
          "output_type": "stream",
          "name": "stdout",
          "text": [
            "Data sebelum di-normalisasi  [0 0 0]\n",
            "Data setelah di-normalisasi  [0. 0. 0.]\n"
          ]
        }
      ]
    },
    {
      "cell_type": "code",
      "source": [
        "# Transformasi label encoder\n",
        "from sklearn.preprocessing import LabelEncoder\n",
        "\n",
        "print(\"Label sebelum di-encoder \", train_label[995:1005])\n",
        "\n",
        "lb = LabelEncoder()\n",
        "y_train = lb.fit_transform(train_label)\n",
        "y_val = lb.fit_transform(val_label)\n",
        "\n",
        "print(\"Label setelah di-encoder \", y_train[995:1005])"
      ],
      "metadata": {
        "id": "jM9x68S1GUp_",
        "colab": {
          "base_uri": "https://localhost:8080/"
        },
        "outputId": "8324546c-19b0-4608-b599-6279796cdd2a"
      },
      "execution_count": null,
      "outputs": [
        {
          "output_type": "stream",
          "name": "stdout",
          "text": [
            "Label sebelum di-encoder  ['NonDemented' 'NonDemented' 'NonDemented' 'NonDemented' 'NonDemented'\n",
            " 'NonDemented' 'NonDemented' 'NonDemented' 'NonDemented' 'NonDemented']\n",
            "Label setelah di-encoder  [2 2 2 2 2 2 2 2 2 2]\n"
          ]
        }
      ]
    },
    {
      "cell_type": "code",
      "metadata": {
        "id": "_Ruf2U_H3hNS"
      },
      "source": [
        "from tensorflow.keras.models import Sequential\n",
        "from tensorflow.keras.layers import InputLayer, Dense, Conv2D, MaxPool2D, Flatten, AveragePooling2D, GlobalAveragePooling2D, Dropout"
      ],
      "execution_count": null,
      "outputs": []
    },
    {
      "cell_type": "code",
      "metadata": {
        "id": "egdijYuTnRSD"
      },
      "source": [
        "# Tulis Kode Anda Disini\n",
        "# Feature Extraction Layer\n",
        "model = Sequential()\n",
        "\n",
        "model.add(InputLayer(input_shape=[200,200,3]))\n",
        "model.add(Conv2D(filters=16, kernel_size=3, strides=1, padding='same', activation='relu'))\n",
        "model.add(MaxPool2D(pool_size=2, padding='same'))\n",
        "model.add(Conv2D(filters=32, kernel_size=3, strides=1, padding='same', activation='relu'))\n",
        "model.add(MaxPool2D(pool_size=2, padding='same'))\n",
        "model.add(Conv2D(filters=64, kernel_size=3, strides=1, padding='same', activation='relu'))\n",
        "model.add(MaxPool2D(pool_size=2, padding='same'))\n",
        "model.add(Conv2D(filters=128, kernel_size=3, strides=1, padding='same', activation='relu'))\n",
        "model.add(MaxPool2D(pool_size=2, padding='same'))\n",
        "model.add(Dropout(0.15))\n",
        "model.add(Conv2D(filters=256, kernel_size=3, strides=1, padding='same', activation='relu'))\n",
        "model.add(MaxPool2D(pool_size=2, padding='same'))\n",
        "model.add(Dropout(0.15))\n",
        "flatten = model.add(Flatten())"
      ],
      "execution_count": null,
      "outputs": []
    },
    {
      "cell_type": "code",
      "metadata": {
        "id": "mM0vdS9_5-vR"
      },
      "source": [
        "# Fully Connected Layer\n",
        "\n",
        "model.add(Dense(512, activation='relu'))\n",
        "model.add(Dense(128, activation='relu'))\n",
        "model.add(Dense(64, activation='relu'))\n",
        "model.add(Dense(4, activation='softmax'))"
      ],
      "execution_count": null,
      "outputs": []
    },
    {
      "cell_type": "code",
      "metadata": {
        "id": "MBmUxauJFQTS",
        "colab": {
          "base_uri": "https://localhost:8080/"
        },
        "outputId": "a99719f7-5238-45dc-c779-5c5aa0f38aa2"
      },
      "source": [
        "# Print model summary\n",
        "print(model.summary())"
      ],
      "execution_count": null,
      "outputs": [
        {
          "output_type": "stream",
          "name": "stdout",
          "text": [
            "Model: \"sequential\"\n",
            "_________________________________________________________________\n",
            " Layer (type)                Output Shape              Param #   \n",
            "=================================================================\n",
            " conv2d (Conv2D)             (None, 200, 200, 16)      448       \n",
            "                                                                 \n",
            " max_pooling2d (MaxPooling2D  (None, 100, 100, 16)     0         \n",
            " )                                                               \n",
            "                                                                 \n",
            " conv2d_1 (Conv2D)           (None, 100, 100, 32)      4640      \n",
            "                                                                 \n",
            " max_pooling2d_1 (MaxPooling  (None, 50, 50, 32)       0         \n",
            " 2D)                                                             \n",
            "                                                                 \n",
            " conv2d_2 (Conv2D)           (None, 50, 50, 64)        18496     \n",
            "                                                                 \n",
            " max_pooling2d_2 (MaxPooling  (None, 25, 25, 64)       0         \n",
            " 2D)                                                             \n",
            "                                                                 \n",
            " conv2d_3 (Conv2D)           (None, 25, 25, 128)       73856     \n",
            "                                                                 \n",
            " max_pooling2d_3 (MaxPooling  (None, 13, 13, 128)      0         \n",
            " 2D)                                                             \n",
            "                                                                 \n",
            " dropout (Dropout)           (None, 13, 13, 128)       0         \n",
            "                                                                 \n",
            " conv2d_4 (Conv2D)           (None, 13, 13, 256)       295168    \n",
            "                                                                 \n",
            " max_pooling2d_4 (MaxPooling  (None, 7, 7, 256)        0         \n",
            " 2D)                                                             \n",
            "                                                                 \n",
            " dropout_1 (Dropout)         (None, 7, 7, 256)         0         \n",
            "                                                                 \n",
            " flatten (Flatten)           (None, 12544)             0         \n",
            "                                                                 \n",
            " dense (Dense)               (None, 512)               6423040   \n",
            "                                                                 \n",
            " dense_1 (Dense)             (None, 128)               65664     \n",
            "                                                                 \n",
            " dense_2 (Dense)             (None, 64)                8256      \n",
            "                                                                 \n",
            " dense_3 (Dense)             (None, 4)                 260       \n",
            "                                                                 \n",
            "=================================================================\n",
            "Total params: 6,889,828\n",
            "Trainable params: 6,889,828\n",
            "Non-trainable params: 0\n",
            "_________________________________________________________________\n",
            "None\n"
          ]
        }
      ]
    },
    {
      "cell_type": "code",
      "source": [
        "from tensorflow.keras.callbacks import EarlyStopping\n",
        "#Defining a custom callback function to stop training our model when accuracy goes above 99%\n",
        "\n",
        "class MyCallback(tf.keras.callbacks.Callback):\n",
        "    def on_epoch_end(self, epoch, logs={}):\n",
        "        if logs.get('val_acc') > 0.99:\n",
        "            print(\"\\nReached accuracy threshold! Terminating training.\")\n",
        "            self.model.stop_training = True\n",
        "            \n",
        "my_callback = MyCallback()\n",
        "\n",
        "#EarlyStopping callback to make sure model is always learning\n",
        "early_stopping = EarlyStopping(monitor='val_loss', patience=2)"
      ],
      "metadata": {
        "id": "N20HhLs0Gk9r"
      },
      "execution_count": null,
      "outputs": []
    },
    {
      "cell_type": "code",
      "execution_count": null,
      "metadata": {
        "id": "bickulk2mDvb"
      },
      "outputs": [],
      "source": [
        "from tensorflow.keras.optimizers import Adam\n",
        "\n",
        "CALLBACKS = [my_callback]\n",
        "\n",
        "model.compile(optimizer=Adam(learning_rate=0.0001, decay=0.0001/32), # decay = learning_rate / batch_size \n",
        "              loss='categorical_crossentropy', \n",
        "              metrics=['acc'])"
      ]
    },
    {
      "cell_type": "code",
      "source": [
        "#Fit the training data to the model and validate it using the validation data\n",
        "history = model.fit(train_generator, batch_size = 32, epochs = 100, validation_data=val_generator, callbacks=CALLBACKS)"
      ],
      "metadata": {
        "id": "m8WZUiYHGp1b",
        "colab": {
          "base_uri": "https://localhost:8080/"
        },
        "outputId": "fa5dcf78-2a73-4284-9aa4-ab5610ef029c"
      },
      "execution_count": null,
      "outputs": [
        {
          "output_type": "stream",
          "name": "stdout",
          "text": [
            "Epoch 1/100\n",
            "160/160 [==============================] - 67s 352ms/step - loss: 1.0604 - acc: 0.4964 - val_loss: 1.0474 - val_acc: 0.4996\n",
            "Epoch 2/100\n",
            "160/160 [==============================] - 56s 348ms/step - loss: 1.0284 - acc: 0.5011 - val_loss: 0.9970 - val_acc: 0.5004\n",
            "Epoch 3/100\n",
            "160/160 [==============================] - 55s 342ms/step - loss: 0.9522 - acc: 0.5335 - val_loss: 0.9175 - val_acc: 0.5550\n",
            "Epoch 4/100\n",
            "160/160 [==============================] - 55s 345ms/step - loss: 0.9324 - acc: 0.5482 - val_loss: 0.8969 - val_acc: 0.5550\n",
            "Epoch 5/100\n",
            "160/160 [==============================] - 55s 344ms/step - loss: 0.9126 - acc: 0.5575 - val_loss: 0.9014 - val_acc: 0.5176\n",
            "Epoch 6/100\n",
            "160/160 [==============================] - 55s 345ms/step - loss: 0.9103 - acc: 0.5566 - val_loss: 0.9077 - val_acc: 0.5605\n",
            "Epoch 7/100\n",
            "160/160 [==============================] - 55s 344ms/step - loss: 0.9005 - acc: 0.5624 - val_loss: 0.8683 - val_acc: 0.5808\n",
            "Epoch 8/100\n",
            "160/160 [==============================] - 55s 343ms/step - loss: 0.8868 - acc: 0.5716 - val_loss: 0.8732 - val_acc: 0.5652\n",
            "Epoch 9/100\n",
            "160/160 [==============================] - 55s 341ms/step - loss: 0.8746 - acc: 0.5771 - val_loss: 0.8442 - val_acc: 0.6042\n",
            "Epoch 10/100\n",
            "160/160 [==============================] - 54s 337ms/step - loss: 0.8621 - acc: 0.5913 - val_loss: 0.8334 - val_acc: 0.5941\n",
            "Epoch 11/100\n",
            "160/160 [==============================] - 54s 338ms/step - loss: 0.8526 - acc: 0.5835 - val_loss: 0.8247 - val_acc: 0.6050\n",
            "Epoch 12/100\n",
            "160/160 [==============================] - 55s 341ms/step - loss: 0.8371 - acc: 0.6056 - val_loss: 0.7932 - val_acc: 0.6066\n",
            "Epoch 13/100\n",
            "160/160 [==============================] - 55s 341ms/step - loss: 0.8071 - acc: 0.6216 - val_loss: 0.8316 - val_acc: 0.5839\n",
            "Epoch 14/100\n",
            "160/160 [==============================] - 58s 361ms/step - loss: 0.7928 - acc: 0.6339 - val_loss: 0.8076 - val_acc: 0.6237\n",
            "Epoch 15/100\n",
            "160/160 [==============================] - 56s 352ms/step - loss: 0.7647 - acc: 0.6470 - val_loss: 0.8319 - val_acc: 0.6042\n",
            "Epoch 16/100\n",
            "160/160 [==============================] - 56s 353ms/step - loss: 0.7495 - acc: 0.6583 - val_loss: 0.7538 - val_acc: 0.6370\n",
            "Epoch 17/100\n",
            "160/160 [==============================] - 57s 355ms/step - loss: 0.7243 - acc: 0.6652 - val_loss: 0.7633 - val_acc: 0.6401\n",
            "Epoch 18/100\n",
            "160/160 [==============================] - 55s 345ms/step - loss: 0.7029 - acc: 0.6833 - val_loss: 0.7131 - val_acc: 0.6674\n",
            "Epoch 19/100\n",
            "160/160 [==============================] - 55s 346ms/step - loss: 0.6702 - acc: 0.6972 - val_loss: 0.6686 - val_acc: 0.6893\n",
            "Epoch 20/100\n",
            "160/160 [==============================] - 55s 342ms/step - loss: 0.6611 - acc: 0.7035 - val_loss: 0.6883 - val_acc: 0.6628\n",
            "Epoch 21/100\n",
            "160/160 [==============================] - 55s 342ms/step - loss: 0.6291 - acc: 0.7189 - val_loss: 0.6874 - val_acc: 0.6799\n",
            "Epoch 22/100\n",
            "160/160 [==============================] - 55s 344ms/step - loss: 0.6049 - acc: 0.7304 - val_loss: 0.5787 - val_acc: 0.7299\n",
            "Epoch 23/100\n",
            "160/160 [==============================] - 54s 339ms/step - loss: 0.5879 - acc: 0.7427 - val_loss: 0.5963 - val_acc: 0.7283\n",
            "Epoch 24/100\n",
            "160/160 [==============================] - 55s 344ms/step - loss: 0.5642 - acc: 0.7531 - val_loss: 0.5657 - val_acc: 0.7416\n",
            "Epoch 25/100\n",
            "160/160 [==============================] - 55s 341ms/step - loss: 0.5363 - acc: 0.7673 - val_loss: 0.6061 - val_acc: 0.7135\n",
            "Epoch 26/100\n",
            "160/160 [==============================] - 55s 341ms/step - loss: 0.5028 - acc: 0.7781 - val_loss: 0.4927 - val_acc: 0.7814\n",
            "Epoch 27/100\n",
            "160/160 [==============================] - 54s 340ms/step - loss: 0.4772 - acc: 0.7951 - val_loss: 0.5704 - val_acc: 0.7385\n",
            "Epoch 28/100\n",
            "160/160 [==============================] - 55s 343ms/step - loss: 0.4522 - acc: 0.8050 - val_loss: 0.4786 - val_acc: 0.7869\n",
            "Epoch 29/100\n",
            "160/160 [==============================] - 54s 336ms/step - loss: 0.4331 - acc: 0.8220 - val_loss: 0.4892 - val_acc: 0.7791\n",
            "Epoch 30/100\n",
            "160/160 [==============================] - 55s 345ms/step - loss: 0.4063 - acc: 0.8306 - val_loss: 0.6038 - val_acc: 0.7479\n",
            "Epoch 31/100\n",
            "160/160 [==============================] - 55s 346ms/step - loss: 0.3991 - acc: 0.8355 - val_loss: 0.5523 - val_acc: 0.7627\n",
            "Epoch 32/100\n",
            "160/160 [==============================] - 55s 344ms/step - loss: 0.3714 - acc: 0.8494 - val_loss: 0.4202 - val_acc: 0.8165\n",
            "Epoch 33/100\n",
            "160/160 [==============================] - 55s 346ms/step - loss: 0.3378 - acc: 0.8640 - val_loss: 0.4098 - val_acc: 0.8228\n",
            "Epoch 34/100\n",
            "160/160 [==============================] - 55s 346ms/step - loss: 0.3277 - acc: 0.8697 - val_loss: 0.4645 - val_acc: 0.7853\n",
            "Epoch 35/100\n",
            "160/160 [==============================] - 56s 350ms/step - loss: 0.3229 - acc: 0.8693 - val_loss: 0.4081 - val_acc: 0.8251\n",
            "Epoch 36/100\n",
            "160/160 [==============================] - 56s 350ms/step - loss: 0.2736 - acc: 0.8918 - val_loss: 0.4107 - val_acc: 0.8205\n",
            "Epoch 37/100\n",
            "160/160 [==============================] - 56s 348ms/step - loss: 0.2868 - acc: 0.8888 - val_loss: 0.3985 - val_acc: 0.8361\n",
            "Epoch 38/100\n",
            "160/160 [==============================] - 56s 349ms/step - loss: 0.2575 - acc: 0.9027 - val_loss: 0.3407 - val_acc: 0.8626\n",
            "Epoch 39/100\n",
            "160/160 [==============================] - 55s 346ms/step - loss: 0.2469 - acc: 0.9025 - val_loss: 0.4314 - val_acc: 0.8181\n",
            "Epoch 40/100\n",
            "160/160 [==============================] - 55s 346ms/step - loss: 0.2440 - acc: 0.9097 - val_loss: 0.5649 - val_acc: 0.7939\n",
            "Epoch 41/100\n",
            "160/160 [==============================] - 56s 348ms/step - loss: 0.2325 - acc: 0.9115 - val_loss: 0.3663 - val_acc: 0.8431\n",
            "Epoch 42/100\n",
            "160/160 [==============================] - 56s 348ms/step - loss: 0.2205 - acc: 0.9189 - val_loss: 0.4433 - val_acc: 0.8384\n",
            "Epoch 43/100\n",
            "160/160 [==============================] - 55s 345ms/step - loss: 0.1942 - acc: 0.9258 - val_loss: 0.3481 - val_acc: 0.8618\n",
            "Epoch 44/100\n",
            "160/160 [==============================] - 55s 341ms/step - loss: 0.1855 - acc: 0.9305 - val_loss: 0.2872 - val_acc: 0.8907\n",
            "Epoch 45/100\n",
            "160/160 [==============================] - 55s 345ms/step - loss: 0.1732 - acc: 0.9371 - val_loss: 0.4491 - val_acc: 0.8306\n",
            "Epoch 46/100\n",
            "160/160 [==============================] - 55s 341ms/step - loss: 0.1712 - acc: 0.9326 - val_loss: 0.3922 - val_acc: 0.8595\n",
            "Epoch 47/100\n",
            "160/160 [==============================] - 55s 342ms/step - loss: 0.1637 - acc: 0.9396 - val_loss: 0.3593 - val_acc: 0.8681\n",
            "Epoch 48/100\n",
            "160/160 [==============================] - 55s 341ms/step - loss: 0.1469 - acc: 0.9484 - val_loss: 0.3572 - val_acc: 0.8634\n",
            "Epoch 49/100\n",
            "160/160 [==============================] - 55s 342ms/step - loss: 0.1391 - acc: 0.9486 - val_loss: 0.4126 - val_acc: 0.8517\n",
            "Epoch 50/100\n",
            "160/160 [==============================] - 55s 344ms/step - loss: 0.1406 - acc: 0.9492 - val_loss: 0.3321 - val_acc: 0.8657\n",
            "Epoch 51/100\n",
            "160/160 [==============================] - 55s 345ms/step - loss: 0.1479 - acc: 0.9443 - val_loss: 0.4674 - val_acc: 0.8439\n",
            "Epoch 52/100\n",
            "160/160 [==============================] - 56s 348ms/step - loss: 0.1118 - acc: 0.9603 - val_loss: 0.2379 - val_acc: 0.9133\n",
            "Epoch 53/100\n",
            "160/160 [==============================] - 55s 346ms/step - loss: 0.1405 - acc: 0.9471 - val_loss: 0.3613 - val_acc: 0.8689\n",
            "Epoch 54/100\n",
            "160/160 [==============================] - 55s 342ms/step - loss: 0.1162 - acc: 0.9566 - val_loss: 0.2460 - val_acc: 0.9102\n",
            "Epoch 55/100\n",
            "160/160 [==============================] - 55s 342ms/step - loss: 0.1128 - acc: 0.9588 - val_loss: 0.4398 - val_acc: 0.8564\n",
            "Epoch 56/100\n",
            "160/160 [==============================] - 55s 343ms/step - loss: 0.1168 - acc: 0.9564 - val_loss: 0.4018 - val_acc: 0.8642\n",
            "Epoch 57/100\n",
            "160/160 [==============================] - 55s 342ms/step - loss: 0.1084 - acc: 0.9613 - val_loss: 0.3150 - val_acc: 0.8946\n",
            "Epoch 58/100\n",
            "160/160 [==============================] - 55s 345ms/step - loss: 0.0861 - acc: 0.9687 - val_loss: 0.1739 - val_acc: 0.9407\n",
            "Epoch 59/100\n",
            "160/160 [==============================] - 55s 342ms/step - loss: 0.0915 - acc: 0.9695 - val_loss: 0.1773 - val_acc: 0.9336\n",
            "Epoch 60/100\n",
            "160/160 [==============================] - 54s 340ms/step - loss: 0.0924 - acc: 0.9662 - val_loss: 0.5907 - val_acc: 0.8470\n",
            "Epoch 61/100\n",
            "160/160 [==============================] - 55s 341ms/step - loss: 0.0827 - acc: 0.9721 - val_loss: 0.1652 - val_acc: 0.9438\n",
            "Epoch 62/100\n",
            "160/160 [==============================] - 55s 344ms/step - loss: 0.0792 - acc: 0.9746 - val_loss: 0.2682 - val_acc: 0.9032\n",
            "Epoch 63/100\n",
            "160/160 [==============================] - 56s 349ms/step - loss: 0.0699 - acc: 0.9783 - val_loss: 0.4307 - val_acc: 0.8735\n",
            "Epoch 64/100\n",
            "160/160 [==============================] - 55s 341ms/step - loss: 0.0742 - acc: 0.9756 - val_loss: 0.1989 - val_acc: 0.9251\n",
            "Epoch 65/100\n",
            "160/160 [==============================] - 54s 336ms/step - loss: 0.0748 - acc: 0.9732 - val_loss: 0.2859 - val_acc: 0.9079\n",
            "Epoch 66/100\n",
            "160/160 [==============================] - 55s 341ms/step - loss: 0.0721 - acc: 0.9750 - val_loss: 0.2937 - val_acc: 0.8946\n",
            "Epoch 67/100\n",
            "160/160 [==============================] - 54s 335ms/step - loss: 0.0606 - acc: 0.9787 - val_loss: 0.2809 - val_acc: 0.9071\n",
            "Epoch 68/100\n",
            "160/160 [==============================] - 53s 329ms/step - loss: 0.0691 - acc: 0.9754 - val_loss: 0.3725 - val_acc: 0.8837\n",
            "Epoch 69/100\n",
            "160/160 [==============================] - 53s 328ms/step - loss: 0.0671 - acc: 0.9779 - val_loss: 0.3529 - val_acc: 0.8813\n",
            "Epoch 70/100\n",
            "160/160 [==============================] - 52s 327ms/step - loss: 0.0667 - acc: 0.9766 - val_loss: 0.2587 - val_acc: 0.9126\n",
            "Epoch 71/100\n",
            "160/160 [==============================] - 52s 327ms/step - loss: 0.0574 - acc: 0.9789 - val_loss: 0.3535 - val_acc: 0.8899\n",
            "Epoch 72/100\n",
            "160/160 [==============================] - 52s 327ms/step - loss: 0.0396 - acc: 0.9875 - val_loss: 0.1893 - val_acc: 0.9391\n",
            "Epoch 73/100\n",
            "160/160 [==============================] - 52s 327ms/step - loss: 0.0541 - acc: 0.9814 - val_loss: 0.2644 - val_acc: 0.9235\n",
            "Epoch 74/100\n",
            "160/160 [==============================] - 52s 326ms/step - loss: 0.0630 - acc: 0.9771 - val_loss: 0.3243 - val_acc: 0.9032\n",
            "Epoch 75/100\n",
            "160/160 [==============================] - 53s 329ms/step - loss: 0.0528 - acc: 0.9807 - val_loss: 0.3332 - val_acc: 0.9087\n",
            "Epoch 76/100\n",
            "160/160 [==============================] - 52s 326ms/step - loss: 0.0523 - acc: 0.9807 - val_loss: 0.5152 - val_acc: 0.8540\n",
            "Epoch 77/100\n",
            "160/160 [==============================] - 52s 324ms/step - loss: 0.0533 - acc: 0.9812 - val_loss: 0.2169 - val_acc: 0.9313\n",
            "Epoch 78/100\n",
            "160/160 [==============================] - 53s 328ms/step - loss: 0.0509 - acc: 0.9832 - val_loss: 0.2014 - val_acc: 0.9368\n",
            "Epoch 79/100\n",
            "160/160 [==============================] - 53s 328ms/step - loss: 0.0387 - acc: 0.9859 - val_loss: 0.2428 - val_acc: 0.9227\n",
            "Epoch 80/100\n",
            "160/160 [==============================] - 52s 328ms/step - loss: 0.0384 - acc: 0.9861 - val_loss: 0.1783 - val_acc: 0.9485\n",
            "Epoch 81/100\n",
            "160/160 [==============================] - 52s 326ms/step - loss: 0.0538 - acc: 0.9797 - val_loss: 0.3334 - val_acc: 0.8985\n",
            "Epoch 82/100\n",
            "160/160 [==============================] - 52s 327ms/step - loss: 0.0562 - acc: 0.9787 - val_loss: 0.2961 - val_acc: 0.9188\n",
            "Epoch 83/100\n",
            "160/160 [==============================] - 52s 324ms/step - loss: 0.0410 - acc: 0.9865 - val_loss: 0.3350 - val_acc: 0.8977\n",
            "Epoch 84/100\n",
            "160/160 [==============================] - 52s 328ms/step - loss: 0.0367 - acc: 0.9881 - val_loss: 0.3219 - val_acc: 0.9063\n",
            "Epoch 85/100\n",
            "160/160 [==============================] - 52s 327ms/step - loss: 0.0465 - acc: 0.9832 - val_loss: 0.2254 - val_acc: 0.9313\n",
            "Epoch 86/100\n",
            "160/160 [==============================] - 53s 330ms/step - loss: 0.0534 - acc: 0.9791 - val_loss: 0.1173 - val_acc: 0.9625\n",
            "Epoch 87/100\n",
            "160/160 [==============================] - 53s 329ms/step - loss: 0.0442 - acc: 0.9840 - val_loss: 0.3129 - val_acc: 0.9055\n",
            "Epoch 88/100\n",
            "160/160 [==============================] - 54s 338ms/step - loss: 0.0314 - acc: 0.9902 - val_loss: 0.4003 - val_acc: 0.8852\n",
            "Epoch 89/100\n",
            "160/160 [==============================] - 54s 335ms/step - loss: 0.0265 - acc: 0.9912 - val_loss: 0.2097 - val_acc: 0.9336\n",
            "Epoch 90/100\n",
            "160/160 [==============================] - 53s 331ms/step - loss: 0.0511 - acc: 0.9826 - val_loss: 0.2474 - val_acc: 0.9258\n",
            "Epoch 91/100\n",
            "160/160 [==============================] - 54s 335ms/step - loss: 0.0284 - acc: 0.9920 - val_loss: 0.3068 - val_acc: 0.9282\n",
            "Epoch 92/100\n",
            "160/160 [==============================] - 53s 333ms/step - loss: 0.0357 - acc: 0.9893 - val_loss: 0.3068 - val_acc: 0.9188\n",
            "Epoch 93/100\n",
            "160/160 [==============================] - 52s 328ms/step - loss: 0.0194 - acc: 0.9941 - val_loss: 0.1983 - val_acc: 0.9524\n",
            "Epoch 94/100\n",
            "160/160 [==============================] - 52s 327ms/step - loss: 0.0382 - acc: 0.9859 - val_loss: 0.5240 - val_acc: 0.8931\n",
            "Epoch 95/100\n",
            "160/160 [==============================] - 52s 324ms/step - loss: 0.0357 - acc: 0.9879 - val_loss: 0.4295 - val_acc: 0.8852\n",
            "Epoch 96/100\n",
            "160/160 [==============================] - 52s 328ms/step - loss: 0.0426 - acc: 0.9861 - val_loss: 0.3239 - val_acc: 0.9016\n",
            "Epoch 97/100\n",
            "160/160 [==============================] - 52s 325ms/step - loss: 0.0226 - acc: 0.9922 - val_loss: 0.1371 - val_acc: 0.9571\n",
            "Epoch 98/100\n",
            "160/160 [==============================] - 53s 329ms/step - loss: 0.0343 - acc: 0.9893 - val_loss: 0.1370 - val_acc: 0.9508\n",
            "Epoch 99/100\n",
            "160/160 [==============================] - 52s 327ms/step - loss: 0.0289 - acc: 0.9902 - val_loss: 0.2856 - val_acc: 0.9149\n",
            "Epoch 100/100\n",
            "160/160 [==============================] - 52s 326ms/step - loss: 0.0391 - acc: 0.9877 - val_loss: 0.2643 - val_acc: 0.9297\n"
          ]
        }
      ]
    },
    {
      "cell_type": "code",
      "source": [
        "target_dir = \"/content/drive/MyDrive/ML\"\n",
        "model.save(target_dir + '/model3.h5')"
      ],
      "metadata": {
        "id": "GG6I4Vv1HPzv"
      },
      "execution_count": null,
      "outputs": []
    },
    {
      "cell_type": "code",
      "source": [
        "#Plotting the trend of the metrics during training\n",
        "import matplotlib.pyplot as plt\n",
        "\n",
        "fig, ax = plt.subplots(1, 2, figsize = (10, 5))\n",
        "ax = ax.ravel()\n",
        "\n",
        "for i, metric in enumerate([\"acc\", \"loss\"]):\n",
        "    ax[i].plot(history.history[metric])\n",
        "    ax[i].plot(history.history[\"val_\" + metric])\n",
        "    ax[i].set_title(\"Model {}\".format(metric))\n",
        "    ax[i].set_xlabel(\"Epochs\")\n",
        "    ax[i].set_ylabel(metric)\n",
        "    ax[i].legend([\"train\", \"val\"])"
      ],
      "metadata": {
        "id": "Bm48wXrkGvCU",
        "colab": {
          "base_uri": "https://localhost:8080/",
          "height": 350
        },
        "outputId": "52b5a18c-8e15-46ec-e319-3e490a520b72"
      },
      "execution_count": null,
      "outputs": [
        {
          "output_type": "display_data",
          "data": {
            "image/png": "[encoded data removed]",
            "text/plain": [
              "<Figure size 720x360 with 2 Axes>"
            ]
          },
          "metadata": {
            "needs_background": "light"
          }
        }
      ]
    },
    {
      "cell_type": "code",
      "source": [
        "train_scores = model.evaluate(train_generator)\n",
        "val_scores = model.evaluate(val_generator)\n",
        "\n",
        "print(\"Training Accuracy: %.2f%%\"%(train_scores[1] * 100))\n",
        "print(\"Validation Accuracy: %.2f%%\"%(val_scores[1] * 100))"
      ],
      "metadata": {
        "id": "43sLKATPHU9A",
        "colab": {
          "base_uri": "https://localhost:8080/"
        },
        "outputId": "d17f3700-d39a-4fd6-d441-e9fee8cfaf5f"
      },
      "execution_count": null,
      "outputs": [
        {
          "output_type": "stream",
          "name": "stdout",
          "text": [
            "160/160 [==============================] - 48s 302ms/step - loss: 0.0141 - acc: 0.9957\n",
            "41/41 [==============================] - 3s 67ms/step - loss: 0.2643 - acc: 0.9297\n",
            "Training Accuracy: 99.57%\n",
            "Validation Accuracy: 92.97%\n"
          ]
        }
      ]
    },
    {
      "cell_type": "code",
      "source": [
        "from sklearn.metrics import classification_report\n",
        "import numpy as np\n",
        "\n",
        "target_names = []\n",
        "\n",
        "for key in train_generator.class_indices:\n",
        "    target_names.append(key)\n",
        "\n",
        "pred_labels = model.predict(val_generator)\n",
        "y_pred = np.argmax(pred_labels, axis=1)\n",
        "\n",
        "print('Classification Report')\n",
        "print(classification_report(val_generator.classes, y_pred, target_names=target_names))"
      ],
      "metadata": {
        "id": "V7slaf7IHX-D",
        "colab": {
          "base_uri": "https://localhost:8080/"
        },
        "outputId": "d722fe93-8ad6-4a17-bf5a-ad2e96408198"
      },
      "execution_count": null,
      "outputs": [
        {
          "output_type": "stream",
          "name": "stdout",
          "text": [
            "Classification Report\n",
            "                  precision    recall  f1-score   support\n",
            "\n",
            "    MildDemented       0.93      0.92      0.92       180\n",
            "ModerateDemented       0.86      0.92      0.89        13\n",
            "     NonDemented       0.96      0.93      0.95       640\n",
            "VeryMildDemented       0.89      0.94      0.91       448\n",
            "\n",
            "        accuracy                           0.93      1281\n",
            "       macro avg       0.91      0.93      0.92      1281\n",
            "    weighted avg       0.93      0.93      0.93      1281\n",
            "\n"
          ]
        }
      ]
    }
  ]
}